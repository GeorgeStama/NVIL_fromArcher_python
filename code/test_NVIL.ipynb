{
 "cells": [
  {
   "cell_type": "code",
   "execution_count": 21,
   "metadata": {
    "collapsed": false
   },
   "outputs": [],
   "source": [
    "# load Python/Theano stuff\n",
    "# Show figures inline with the code\n",
    "%matplotlib inline   \n",
    "\n",
    "import theano\n",
    "import theano.tensor as T\n",
    "import theano.tensor.nlinalg as Tla\n",
    "import lasagne       # the library we're using for NN's\n",
    "# import the nonlinearities we might use \n",
    "from lasagne.nonlinearities import leaky_rectify, softmax, linear, tanh, rectify\n",
    "from theano.tensor.shared_randomstreams import RandomStreams\n",
    "import numpy as np\n",
    "from numpy.random import *\n",
    "from matplotlib import pyplot as plt\n",
    "\n",
    "import cPickle\n",
    "import sys\n",
    "\n",
    "# import kmeans clustering algorithm from scikit-learn\n",
    "from sklearn.cluster import KMeans \n"
   ]
  },
  {
   "cell_type": "code",
   "execution_count": 22,
   "metadata": {
    "collapsed": false
   },
   "outputs": [],
   "source": [
    "# Load our code\n",
    "\n",
    "# Add all the paths that should matter right now\n",
    "sys.path.append('lib/') \n",
    "from GenerativeModel import *       # Class file for generative models. \n",
    "from RecognitionModel import *      # Class file for recognition models\n",
    "from NVIL import *                  # The meat of the algorithm - define the cost function and initialize Gen/Rec model\n",
    "\n",
    "# import our covariance-plotting software\n",
    "from plot_cov import *\n"
   ]
  },
  {
   "cell_type": "code",
   "execution_count": 23,
   "metadata": {
    "collapsed": true
   },
   "outputs": [],
   "source": [
    "# Use the fast compile option\n",
    "theano.config.optimizer = 'fast_compile' "
   ]
  },
  {
   "cell_type": "code",
   "execution_count": 24,
   "metadata": {
    "collapsed": false
   },
   "outputs": [],
   "source": [
    "# Choose Simulation Parameters and Generate Data\n",
    "xDim = 3 # number of latent classes\n",
    "yDim = 2 # dimensionality of Gaussian observations\n",
    "_N = 2500 # number of datapoints to generate\n",
    "gmm = MixtureOfGaussians(dict([]), xDim, yDim)  # instantiate our 'true' generative model\n",
    "[xsamp, ysamp] = gmm.sampleXY(_N)\n"
   ]
  },
  {
   "cell_type": "code",
   "execution_count": 25,
   "metadata": {
    "collapsed": false
   },
   "outputs": [],
   "source": [
    "# Set up Lasagne Recognition Network \n",
    "rec_is_training = theano.shared(value = 1) \n",
    "rec_nn = lasagne.layers.InputLayer((None, yDim))\n",
    "rec_nn = lasagne.layers.DenseLayer(rec_nn, 100, nonlinearity=leaky_rectify, W=lasagne.init.Orthogonal())\n",
    "rec_nn = lasagne.layers.DenseLayer(rec_nn, xDim, nonlinearity=softmax, W=lasagne.init.Orthogonal(), b=-5*np.ones(xDim, dtype=theano.config.floatX))\n",
    "NN_Params = dict([('network', rec_nn)])\n",
    "recDict = dict([('NN_Params'     , NN_Params)\n",
    "                ])"
   ]
  },
  {
   "cell_type": "code",
   "execution_count": 26,
   "metadata": {
    "collapsed": false
   },
   "outputs": [
    {
     "name": "stdout",
     "output_type": "stream",
     "text": [
      "(2500, 2)\n"
     ]
    }
   ],
   "source": [
    "# Now we get to try it!\n",
    "\n",
    "# center our simluated data around the mean\n",
    "ysamp_mean = ysamp.mean(axis=0, dtype=theano.config.floatX)\n",
    "ytrain = ysamp - ysamp_mean\n",
    "\n",
    "# construct a BuildModel object that represents the method\n",
    "opt_params = dict({'c0': -0.0, 'v0': 1.0, 'alpha': 0.9})\n",
    "model = BuildModel(opt_params, dict([]), MixtureOfGaussians, recDict, GMMRecognition, xDim, yDim, nCUnits = 100)\n",
    "\n",
    "# Initialize generative model at the k-means solution\n",
    "km = KMeans(n_clusters=xDim, n_init=10, max_iter=500)\n",
    "kmpred = km.fit_predict(ytrain)\n",
    "\n",
    "km_mu = np.zeros([xDim, yDim])\n",
    "km_chol = np.zeros([xDim, yDim, yDim])\n",
    "for cl in np.unique(kmpred):\n",
    "    km_mu[cl] = ytrain[kmpred == cl].mean(axis=0)\n",
    "    km_chol[cl] = np.linalg.cholesky(np.cov(ytrain[kmpred == cl].T))\n",
    "    \n",
    "model.mprior.mu.set_value(km_mu.astype(theano.config.floatX))\n",
    "model.mprior.RChol.set_value(km_chol.astype(theano.config.floatX))\n",
    "\n",
    "km_pi = np.histogram(kmpred,bins=xDim)[0]/(1.0*kmpred.shape[0])\n",
    "model.mprior.pi_un.set_value(km_pi.astype(theano.config.floatX))\n",
    "\n",
    "# Initialize with *true* means and covariances\n",
    "# model.mprior.mu.set_value(gmm.mu.get_value()-ysamp_mean)\n",
    "# model.mprior.RChol.set_value(gmm.RChol.get_value())\n",
    "# model.mprior.pi_un.set_value(gmm.pi_un.get_value())\n",
    "\n",
    "print ysamp.shape\n"
   ]
  },
  {
   "cell_type": "code",
   "execution_count": 27,
   "metadata": {
    "collapsed": false
   },
   "outputs": [
    {
     "name": "stdout",
     "output_type": "stream",
     "text": [
      "0.00%\n",
      "(c,v,L): (-0.000000,1.000000,-381.454417)\n",
      "\n",
      "(c,v,L): (-230.646957,151331.906250,-624.763506)\n",
      "\n",
      "(c,v,L): (-244.593155,137709.609375,-262.128073)\n",
      "\n",
      "(c,v,L): (-224.820877,99516.617188,-181.518876)\n",
      "\n",
      "(c,v,L): (-206.240494,86031.203125,-70.323640)\n",
      "\n",
      "(c,v,L): (-178.262375,57478.246094,-215.057158)\n",
      "\n",
      "(c,v,L): (-145.351120,41862.375000,-141.616738)\n",
      "\n",
      "(c,v,L): (-125.234406,30941.345703,-68.721089)\n",
      "\n",
      "(c,v,L): (-114.693153,24694.046875,-83.819998)\n",
      "\n",
      "(c,v,L): (-84.781563,13873.416992,-139.947298)\n",
      "\n",
      "(c,v,L): (-87.436195,16835.255859,-123.298759)\n",
      "\n",
      "(c,v,L): (-92.747849,18163.238281,-156.716479)\n",
      "\n",
      "(c,v,L): (-108.354912,18080.251953,-115.110324)\n",
      "\n",
      "(c,v,L): (-96.429466,13167.739258,-18.936388)\n",
      "\n",
      "(c,v,L): (-77.911522,11278.756836,-67.469038)\n",
      "\n",
      "(c,v,L): (-69.949951,8892.824219,-51.412475)\n",
      "\n",
      "(c,v,L): (-57.222069,6623.297852,-14.228728)\n",
      "\n",
      "(c,v,L): (-60.947338,7207.194824,-61.154647)\n",
      "\n",
      "(c,v,L): (-74.166710,8250.819336,-75.414433)\n",
      "\n",
      "(c,v,L): (-61.647007,6730.183594,-37.457378)\n",
      "\n",
      "(c,v,L): (-43.968365,4362.230957,-25.562800)\n",
      "\n",
      "(c,v,L): (-40.499191,3858.930176,-39.529701)\n",
      "\n",
      "(c,v,L): (-43.138004,5145.236328,-82.055356)\n",
      "\n",
      "(c,v,L): (-39.964935,4031.977539,-51.684362)\n",
      "\n",
      "(c,v,L): (-40.178444,4279.537109,-19.816389)\n",
      "\n",
      "20.00%\n",
      "(c,v,L): (-31.523136,4290.281250,-32.292181)\n",
      "\n",
      "(c,v,L): (-33.570786,3648.847168,-45.125132)\n",
      "\n",
      "(c,v,L): (-30.605946,2628.063477,-11.894832)\n",
      "\n",
      "(c,v,L): (-30.441334,3090.038330,-46.722664)\n",
      "\n",
      "(c,v,L): (-29.054506,2816.677002,-6.403173)\n",
      "\n",
      "(c,v,L): (-28.062651,3432.213623,-18.773820)\n",
      "\n",
      "(c,v,L): (-22.952978,2418.750488,-3.600744)\n",
      "\n",
      "(c,v,L): (-20.348545,1634.450317,-21.542554)\n",
      "\n",
      "(c,v,L): (-16.635614,1221.700073,-4.820575)\n",
      "\n",
      "(c,v,L): (-22.351768,3403.019043,-20.517862)\n",
      "\n",
      "(c,v,L): (-21.231928,2529.743896,-3.430533)\n",
      "\n",
      "(c,v,L): (-22.553370,2584.311768,-9.503610)\n",
      "\n",
      "(c,v,L): (-23.586157,2701.328613,-57.914498)\n",
      "\n",
      "(c,v,L): (-20.125074,1964.513916,-14.314264)\n",
      "\n",
      "(c,v,L): (-18.201002,1396.966431,-8.454595)\n",
      "\n",
      "(c,v,L): (-15.408027,1218.896851,-3.970947)\n",
      "\n",
      "(c,v,L): (-16.678297,1617.837402,-2.357541)\n",
      "\n",
      "(c,v,L): (-12.052068,852.420837,-6.954519)\n",
      "\n",
      "(c,v,L): (-12.763860,776.451172,-12.304129)\n",
      "\n",
      "(c,v,L): (-9.275988,440.500793,-8.899471)\n",
      "\n",
      "(c,v,L): (-6.810076,362.173492,-2.313657)\n",
      "\n",
      "(c,v,L): (-6.809136,243.910492,-40.097275)\n",
      "\n",
      "(c,v,L): (-11.496603,876.663818,-5.466560)\n",
      "\n",
      "(c,v,L): (-13.251025,1301.660278,-1.758738)\n",
      "\n",
      "(c,v,L): (-11.556252,1445.822510,-9.799930)\n",
      "\n",
      "40.00%\n",
      "(c,v,L): (-11.789690,1431.319824,-6.438772)\n",
      "\n",
      "(c,v,L): (-9.531307,785.104797,-14.826293)\n",
      "\n",
      "(c,v,L): (-9.821414,805.538452,-2.637199)\n",
      "\n",
      "(c,v,L): (-6.818373,399.551117,-2.871299)\n",
      "\n",
      "(c,v,L): (-10.751789,895.009766,-0.022053)\n",
      "\n",
      "(c,v,L): (-10.787248,939.909729,-3.327497)\n",
      "\n",
      "(c,v,L): (-7.670720,685.109802,-9.390002)\n",
      "\n",
      "(c,v,L): (-6.074403,399.262909,-3.328006)\n",
      "\n",
      "(c,v,L): (-4.588053,165.652740,-2.560655)\n",
      "\n",
      "(c,v,L): (-7.643950,479.676819,-1.177116)\n",
      "\n",
      "(c,v,L): (-8.394846,675.108398,-1.431022)\n",
      "\n",
      "(c,v,L): (-4.506506,250.738724,-5.944788)\n",
      "\n",
      "(c,v,L): (-6.102681,263.249939,-11.437505)\n",
      "\n",
      "(c,v,L): (-7.213571,404.117737,-2.498170)\n",
      "\n",
      "(c,v,L): (-8.605784,639.354126,-4.038290)\n",
      "\n",
      "(c,v,L): (-5.129746,239.056564,0.305288)\n",
      "\n",
      "(c,v,L): (-4.649908,111.321014,-12.765960)\n",
      "\n",
      "(c,v,L): (-5.200426,146.857803,-0.848184)\n",
      "\n",
      "(c,v,L): (-5.765917,261.989349,-13.847771)\n",
      "\n",
      "(c,v,L): (-6.390516,268.453278,-11.848020)\n",
      "\n",
      "(c,v,L): (-4.751213,170.134796,-2.579096)\n",
      "\n",
      "(c,v,L): (-4.014360,94.941978,-1.518792)\n",
      "\n",
      "(c,v,L): (-5.276931,278.515991,-2.607416)\n",
      "\n",
      "(c,v,L): (-5.286131,490.702759,-1.316242)\n",
      "\n",
      "(c,v,L): (-3.951294,198.476257,-1.392113)\n",
      "\n",
      "60.00%\n",
      "(c,v,L): (-3.022371,78.097969,-6.162159)\n",
      "\n",
      "(c,v,L): (-3.201929,61.103901,-11.206321)\n",
      "\n",
      "(c,v,L): (-6.321136,651.821167,-4.277667)\n",
      "\n",
      "(c,v,L): (-5.092405,336.654755,-0.986410)\n",
      "\n",
      "(c,v,L): (-6.493281,834.247070,-1.375441)\n",
      "\n",
      "(c,v,L): (-4.729636,304.646576,-0.623934)\n",
      "\n",
      "(c,v,L): (-3.877363,179.850983,-4.710475)\n",
      "\n",
      "(c,v,L): (-2.939471,72.705650,0.092956)\n",
      "\n",
      "(c,v,L): (-4.311144,240.456894,-2.659768)\n",
      "\n",
      "(c,v,L): (-4.288558,366.101257,0.446715)\n",
      "\n",
      "(c,v,L): (-5.857820,679.070557,0.636229)\n",
      "\n",
      "(c,v,L): (-4.515112,340.758545,-8.283666)\n",
      "\n",
      "(c,v,L): (-3.315254,140.637192,-0.681295)\n",
      "\n",
      "(c,v,L): (-3.506474,119.988144,-0.771046)\n",
      "\n",
      "(c,v,L): (-2.995378,102.390610,0.418121)\n",
      "\n",
      "(c,v,L): (-2.865550,71.615334,0.231563)\n",
      "\n",
      "(c,v,L): (-2.988038,46.639858,0.660828)\n",
      "\n",
      "(c,v,L): (-2.938371,85.680305,0.753444)\n",
      "\n",
      "(c,v,L): (-2.995304,90.920166,-1.211303)\n",
      "\n",
      "(c,v,L): (-2.060361,38.339916,0.486205)\n",
      "\n",
      "(c,v,L): (-2.060455,21.785372,-1.413780)\n",
      "\n",
      "(c,v,L): (-1.989216,13.233411,-10.694056)\n",
      "\n",
      "(c,v,L): (-3.750694,239.990921,-0.769784)\n",
      "\n",
      "(c,v,L): (-2.326471,97.564018,-1.813491)\n",
      "\n",
      "(c,v,L): (-3.443156,211.825638,0.056007)\n",
      "\n",
      "80.00%\n",
      "(c,v,L): (-2.175656,77.590683,-0.536156)\n",
      "\n",
      "(c,v,L): (-2.691813,137.992203,-0.212648)\n",
      "\n",
      "(c,v,L): (-2.107022,53.007725,-0.231665)\n",
      "\n",
      "(c,v,L): (-3.146906,147.628143,-0.859598)\n",
      "\n",
      "(c,v,L): (-2.038946,55.435528,-0.719319)\n",
      "\n",
      "(c,v,L): (-3.102749,104.224464,-7.974719)\n",
      "\n",
      "(c,v,L): (-2.252066,55.512032,-0.167564)\n",
      "\n",
      "(c,v,L): (-1.996537,38.540119,-0.318581)\n",
      "\n",
      "(c,v,L): (-1.484071,15.835482,-0.990549)\n",
      "\n",
      "(c,v,L): (-2.230896,45.998291,-0.304727)\n",
      "\n",
      "(c,v,L): (-1.659820,19.938444,-0.692982)\n",
      "\n",
      "(c,v,L): (-2.035134,28.165495,-0.183552)\n",
      "\n",
      "(c,v,L): (-1.644529,13.423615,-1.796856)\n",
      "\n",
      "(c,v,L): (-2.036821,69.814873,-0.461201)\n",
      "\n",
      "(c,v,L): (-1.776712,28.669643,0.358394)\n",
      "\n",
      "(c,v,L): (-1.346756,13.390749,-0.486441)\n",
      "\n",
      "(c,v,L): (-1.772709,29.214085,-0.907712)\n",
      "\n",
      "(c,v,L): (-2.300505,155.631973,-0.938614)\n",
      "\n",
      "(c,v,L): (-1.635333,58.256401,0.585767)\n",
      "\n",
      "(c,v,L): (-1.639273,36.734425,-0.223303)\n",
      "\n",
      "(c,v,L): (-2.576903,206.866440,-0.627808)\n",
      "\n",
      "(c,v,L): (-2.093708,92.945503,-0.146618)\n",
      "\n",
      "(c,v,L): (-1.872360,47.618816,-0.340321)\n",
      "\n",
      "(c,v,L): (-1.512989,19.402433,0.661494)\n",
      "\n",
      "(c,v,L): (-1.203324,9.155673,0.461475)\n",
      "\n"
     ]
    }
   ],
   "source": [
    "# Fit the model\n",
    "costs = model.fit(ytrain, batch_size = 10, max_epochs=5, learning_rate = 3e-4)"
   ]
  },
  {
   "cell_type": "code",
   "execution_count": 28,
   "metadata": {
    "collapsed": false,
    "scrolled": true
   },
   "outputs": [
    {
     "data": {
      "text/plain": [
       "<matplotlib.text.Text at 0x7f905948e3d0>"
      ]
     },
     "execution_count": 28,
     "metadata": {},
     "output_type": "execute_result"
    },
    {
     "data": {
      "image/png": "[encoded data removed]",
      "text/plain": [
       "<matplotlib.figure.Figure at 0x7f905ad46350>"
      ]
     },
     "metadata": {},
     "output_type": "display_data"
    }
   ],
   "source": [
    "# Plot ELBO (variational lower bound objective) against iteration\n",
    "\n",
    "plt.figure()\n",
    "plt.plot(costs)\n",
    "plt.axis('tight')\n",
    "plt.xlabel('iteration')\n",
    "plt.ylabel('ELBO\\n(averaged over minibatch)')"
   ]
  },
  {
   "cell_type": "code",
   "execution_count": 29,
   "metadata": {
    "collapsed": false,
    "scrolled": true
   },
   "outputs": [
    {
     "data": {
      "image/png": "[encoded data removed]",
      "text/plain": [
       "<matplotlib.figure.Figure at 0x7f9046393850>"
      ]
     },
     "metadata": {},
     "output_type": "display_data"
    }
   ],
   "source": [
    "clr = ['b', 'r', 'c','g','m','o']\n",
    "\n",
    "plt.figure()\n",
    "plt.subplot(121)\n",
    "plt.plot(ysamp[:,0], ysamp[:,1],'k.', alpha=.1)\n",
    "plt.hold('on')\n",
    "for ii in xrange(xDim):\n",
    "    Rc= gmm.RChol[ii].eval()\n",
    "    plot_cov_ellipse(Rc.dot(Rc.T), gmm.mu[ii].eval(), nstd=2, color=clr[ii%5], alpha=.3)\n",
    "    \n",
    "plt.title('True Distribution')\n",
    "plt.ylabel(r'$x_0$')\n",
    "plt.xlabel(r'$x_1$')\n",
    "\n",
    "plt.subplot(122)\n",
    "plt.hold('on')\n",
    "plt.plot(ytrain[:,0], ytrain[:,1],'k.', alpha=.1)\n",
    "for ii in xrange(xDim):\n",
    "    Rc= model.mprior.RChol[ii].eval()\n",
    "    plot_cov_ellipse(Rc.dot(Rc.T), model.mprior.mu[ii].eval(), nstd=2, color=clr[ii%5], alpha=.3)\n",
    "    \n",
    "plt.title('Learned Distributions')    \n",
    "plt.ylabel(r'$x_0$')\n",
    "plt.xlabel(r'$x_1$')\n",
    "\n",
    "plt.show()"
   ]
  },
  {
   "cell_type": "code",
   "execution_count": 30,
   "metadata": {
    "collapsed": false
   },
   "outputs": [
    {
     "data": {
      "image/png": "[encoded data removed]",
      "text/plain": [
       "<matplotlib.figure.Figure at 0x7f90457b9290>"
      ]
     },
     "metadata": {},
     "output_type": "display_data"
    }
   ],
   "source": [
    "xlbl = xsamp.nonzero()[1]\n",
    "#learned_lbl = model.mrec.h.eval({model.Y:ytrain}).argmax(axis=1)\n",
    "#learned_lbl = model.mrec.getSample(ytrain).argmax(axis=1)\n",
    "learned_lbl = model.mrec.h.argmax(axis=1).eval({model.Y:ytrain})\n",
    "\n",
    "clr = ['b', 'r', 'c','g','m','o']\n",
    "\n",
    "plt.figure()\n",
    "for ii in np.random.permutation(xrange(500)):\n",
    "    plt.subplot(121)\n",
    "    plt.hold('on')\n",
    "    plt.plot(ysamp[ii,0] ,ysamp[ii,1],'.', color = clr[xlbl[ii]%5])\n",
    "    plt.subplot(122)\n",
    "    plt.hold('on')\n",
    "    plt.plot(ysamp[ii,0] ,ysamp[ii,1],'.', color = clr[learned_lbl[ii]%5])\n",
    "    \n",
    "plt.subplot(121)\n",
    "plt.title('True Label')\n",
    "plt.ylabel(r'$x_0$')\n",
    "plt.xlabel(r'$x_1$')\n",
    "plt.subplot(122)\n",
    "plt.title('Inferred Label')\n",
    "plt.ylabel(r'$x_0$')\n",
    "plt.xlabel(r'$x_1$')\n",
    "    \n",
    "plt.show()\n"
   ]
  },
  {
   "cell_type": "code",
   "execution_count": 31,
   "metadata": {
    "collapsed": false,
    "scrolled": true
   },
   "outputs": [
    {
     "data": {
      "image/png": "[encoded data removed]",
      "text/plain": [
       "<matplotlib.figure.Figure at 0x7f90448ecc90>"
      ]
     },
     "metadata": {},
     "output_type": "display_data"
    }
   ],
   "source": [
    "n = 25\n",
    "\n",
    "x = np.linspace(-3, 3, n)\n",
    "y = np.linspace(-3, 3, n)\n",
    "xv, yv = np.meshgrid(x, y)\n",
    "grid= np.vstack([xv.flatten(), yv.flatten()]).T\n",
    "\n",
    "gridlabel = model.mrec.getSample(grid.astype(theano.config.floatX)).argmax(axis=1)\n",
    "\n",
    "plt.figure()\n",
    "plt.hold('on')\n",
    "for ii in xrange(n*n):\n",
    "    plt.plot(grid[ii,0] ,grid[ii,1],'.', color = clr[gridlabel[ii]%5])\n",
    "plt.ylabel(r'$x_0$')\n",
    "plt.xlabel(r'$x_1$')\n",
    "plt.title('Highest-Probability Label Over Sampled Grid')\n",
    "plt.show()"
   ]
  }
 ],
 "metadata": {
  "kernelspec": {
   "display_name": "Python 2",
   "language": "python",
   "name": "python2"
  },
  "language_info": {
   "codemirror_mode": {
    "name": "ipython",
    "version": 2
   },
   "file_extension": ".py",
   "mimetype": "text/x-python",
   "name": "python",
   "nbconvert_exporter": "python",
   "pygments_lexer": "ipython2",
   "version": "2.7.11"
  }
 },
 "nbformat": 4,
 "nbformat_minor": 0
}
